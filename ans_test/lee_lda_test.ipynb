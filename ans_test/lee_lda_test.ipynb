{
 "cells": [
  {
   "cell_type": "code",
   "execution_count": 3,
   "metadata": {},
   "outputs": [
    {
     "data": {
      "text/html": [
       "<div>\n",
       "<style scoped>\n",
       "    .dataframe tbody tr th:only-of-type {\n",
       "        vertical-align: middle;\n",
       "    }\n",
       "\n",
       "    .dataframe tbody tr th {\n",
       "        vertical-align: top;\n",
       "    }\n",
       "\n",
       "    .dataframe thead th {\n",
       "        text-align: right;\n",
       "    }\n",
       "</style>\n",
       "<table border=\"1\" class=\"dataframe\">\n",
       "  <thead>\n",
       "    <tr style=\"text-align: right;\">\n",
       "      <th></th>\n",
       "      <th>Unnamed: 0</th>\n",
       "      <th>카테고리</th>\n",
       "      <th>언론사</th>\n",
       "      <th>기사제목</th>\n",
       "      <th>날짜</th>\n",
       "      <th>본문</th>\n",
       "    </tr>\n",
       "  </thead>\n",
       "  <tbody>\n",
       "    <tr>\n",
       "      <th>0</th>\n",
       "      <td>0</td>\n",
       "      <td>정치</td>\n",
       "      <td>디지털타임스</td>\n",
       "      <td>김준일 대표, ‘검수완박’ 민주당에 쓴소리…“‘논리적 확증편향’ 빠졌는지 돌아봐야”</td>\n",
       "      <td>2022.04.12.</td>\n",
       "      <td>\\n\\n\\n\\n\\n‘계곡 살인’ 이은해 사건 거론하며 “‘검수완박’이었다면 이은해 ...</td>\n",
       "    </tr>\n",
       "    <tr>\n",
       "      <th>1</th>\n",
       "      <td>1</td>\n",
       "      <td>정치</td>\n",
       "      <td>중앙일보</td>\n",
       "      <td>[단독]윤희숙 父 ‘투기의혹’ 세종시 땅 매각…차익 전액 기부</td>\n",
       "      <td>2022.04.12.</td>\n",
       "      <td>\\n\\n\\n\\n\\n  지난해 8월 25일 국민권익위원회 조사에서 부동산 관련 불법 ...</td>\n",
       "    </tr>\n",
       "    <tr>\n",
       "      <th>2</th>\n",
       "      <td>2</td>\n",
       "      <td>정치</td>\n",
       "      <td>문화일보</td>\n",
       "      <td>전쟁 피해 절박한 젤렌스키… 미지근한 한국 국회</td>\n",
       "      <td>2022.04.12.</td>\n",
       "      <td>\\n\\n\\n\\n\\n젤렌스키 우크라 대통령, “무기 요청” 국회 화상연설현장 참석 국...</td>\n",
       "    </tr>\n",
       "    <tr>\n",
       "      <th>3</th>\n",
       "      <td>3</td>\n",
       "      <td>정치</td>\n",
       "      <td>아시아경제</td>\n",
       "      <td>금태섭 \"文 정권 땐 특수부 키우더니 이젠 검수완박…이러니 내로남불\"</td>\n",
       "      <td>2022.04.12.</td>\n",
       "      <td>\\n\\n\\n\\n\\n\"응징적 차원에서 제도 바꾸면 중립성 해칠 것\"금태섭 전 더불어민...</td>\n",
       "    </tr>\n",
       "    <tr>\n",
       "      <th>4</th>\n",
       "      <td>4</td>\n",
       "      <td>정치</td>\n",
       "      <td>머니S</td>\n",
       "      <td>송영길 \"애도 아니고 5선 정치인 진퇴가 가벼울 수 없다\"</td>\n",
       "      <td>2022.04.12.</td>\n",
       "      <td>\\n\\n\\n\\n\\n송영길 더불어민주당 전 대표가 12일 민주당의 지방선거 승리를 위...</td>\n",
       "    </tr>\n",
       "    <tr>\n",
       "      <th>...</th>\n",
       "      <td>...</td>\n",
       "      <td>...</td>\n",
       "      <td>...</td>\n",
       "      <td>...</td>\n",
       "      <td>...</td>\n",
       "      <td>...</td>\n",
       "    </tr>\n",
       "    <tr>\n",
       "      <th>1042</th>\n",
       "      <td>1042</td>\n",
       "      <td>세계</td>\n",
       "      <td>한국일보</td>\n",
       "      <td>친(親)러 도네츠크 군, “우크라 마리우폴 항 장악”</td>\n",
       "      <td>2022.04.12.</td>\n",
       "      <td>\\n\\n\\n\\n\\n우크라군, 항만시설ㆍ제철소에서 마지막 저항중 마리우폴 진격한 러시...</td>\n",
       "    </tr>\n",
       "    <tr>\n",
       "      <th>1043</th>\n",
       "      <td>1043</td>\n",
       "      <td>세계</td>\n",
       "      <td>YTN</td>\n",
       "      <td>러시아군 물러났지만...현실화된 우크라발 식량 위기</td>\n",
       "      <td>2022.04.12.</td>\n",
       "      <td>\\n\\n\\n\\n동영상 뉴스\\n\\n\\n\\n\\n\\t\\n\\t[앵커]러시아군이 수도 키이우...</td>\n",
       "    </tr>\n",
       "    <tr>\n",
       "      <th>1044</th>\n",
       "      <td>1044</td>\n",
       "      <td>세계</td>\n",
       "      <td>뉴스1</td>\n",
       "      <td>우크라 內 친러 도네츠크 군대 \"마리우폴 장악 임박\"</td>\n",
       "      <td>2022.04.12.</td>\n",
       "      <td>\\n\\n\\n\\n\\n우크라군 이미 몰려 있어…DPR군 전투 강화할 것마리우폴에 있는 ...</td>\n",
       "    </tr>\n",
       "    <tr>\n",
       "      <th>1045</th>\n",
       "      <td>1045</td>\n",
       "      <td>세계</td>\n",
       "      <td>연합뉴스</td>\n",
       "      <td>은혜 갚은 빈살만?…사우디 국부펀드, 쿠슈너에 2조5천억원 투자</td>\n",
       "      <td>2022.04.12.</td>\n",
       "      <td>\\n\\n\\n\\n\\nNYT 보도…자문단 반대에도 경험 없는 쿠슈너 회사에 거액 투자2...</td>\n",
       "    </tr>\n",
       "    <tr>\n",
       "      <th>1046</th>\n",
       "      <td>1046</td>\n",
       "      <td>세계</td>\n",
       "      <td>중앙일보</td>\n",
       "      <td>마크롱, 우크라 올인한 사이…르펜, 먹고사는 문제로 맹추격</td>\n",
       "      <td>2022.04.12.</td>\n",
       "      <td>\\n\\n\\n\\n\\n\\t\\n\\t  중도 성향의 에마뉘엘 마크롱 대통령(45·전진하는 ...</td>\n",
       "    </tr>\n",
       "  </tbody>\n",
       "</table>\n",
       "<p>1047 rows × 6 columns</p>\n",
       "</div>"
      ],
      "text/plain": [
       "      Unnamed: 0 카테고리     언론사                                            기사제목  \\\n",
       "0              0   정치  디지털타임스  김준일 대표, ‘검수완박’ 민주당에 쓴소리…“‘논리적 확증편향’ 빠졌는지 돌아봐야”   \n",
       "1              1   정치    중앙일보              [단독]윤희숙 父 ‘투기의혹’ 세종시 땅 매각…차익 전액 기부   \n",
       "2              2   정치    문화일보                      전쟁 피해 절박한 젤렌스키… 미지근한 한국 국회   \n",
       "3              3   정치   아시아경제          금태섭 \"文 정권 땐 특수부 키우더니 이젠 검수완박…이러니 내로남불\"   \n",
       "4              4   정치     머니S                송영길 \"애도 아니고 5선 정치인 진퇴가 가벼울 수 없다\"   \n",
       "...          ...  ...     ...                                             ...   \n",
       "1042        1042   세계    한국일보                   친(親)러 도네츠크 군, “우크라 마리우폴 항 장악”   \n",
       "1043        1043   세계     YTN                    러시아군 물러났지만...현실화된 우크라발 식량 위기   \n",
       "1044        1044   세계     뉴스1                   우크라 內 친러 도네츠크 군대 \"마리우폴 장악 임박\"   \n",
       "1045        1045   세계    연합뉴스             은혜 갚은 빈살만?…사우디 국부펀드, 쿠슈너에 2조5천억원 투자   \n",
       "1046        1046   세계    중앙일보                마크롱, 우크라 올인한 사이…르펜, 먹고사는 문제로 맹추격   \n",
       "\n",
       "               날짜                                                 본문  \n",
       "0     2022.04.12.  \\n\\n\\n\\n\\n‘계곡 살인’ 이은해 사건 거론하며 “‘검수완박’이었다면 이은해 ...  \n",
       "1     2022.04.12.  \\n\\n\\n\\n\\n  지난해 8월 25일 국민권익위원회 조사에서 부동산 관련 불법 ...  \n",
       "2     2022.04.12.  \\n\\n\\n\\n\\n젤렌스키 우크라 대통령, “무기 요청” 국회 화상연설현장 참석 국...  \n",
       "3     2022.04.12.  \\n\\n\\n\\n\\n\"응징적 차원에서 제도 바꾸면 중립성 해칠 것\"금태섭 전 더불어민...  \n",
       "4     2022.04.12.  \\n\\n\\n\\n\\n송영길 더불어민주당 전 대표가 12일 민주당의 지방선거 승리를 위...  \n",
       "...           ...                                                ...  \n",
       "1042  2022.04.12.  \\n\\n\\n\\n\\n우크라군, 항만시설ㆍ제철소에서 마지막 저항중 마리우폴 진격한 러시...  \n",
       "1043  2022.04.12.  \\n\\n\\n\\n동영상 뉴스\\n\\n\\n\\n\\n\\t\\n\\t[앵커]러시아군이 수도 키이우...  \n",
       "1044  2022.04.12.  \\n\\n\\n\\n\\n우크라군 이미 몰려 있어…DPR군 전투 강화할 것마리우폴에 있는 ...  \n",
       "1045  2022.04.12.  \\n\\n\\n\\n\\nNYT 보도…자문단 반대에도 경험 없는 쿠슈너 회사에 거액 투자2...  \n",
       "1046  2022.04.12.  \\n\\n\\n\\n\\n\\t\\n\\t  중도 성향의 에마뉘엘 마크롱 대통령(45·전진하는 ...  \n",
       "\n",
       "[1047 rows x 6 columns]"
      ]
     },
     "execution_count": 3,
     "metadata": {},
     "output_type": "execute_result"
    }
   ],
   "source": [
    "import pandas as pd\n",
    "\n",
    "df = pd.read_csv(\"../data/2022-04-12 news data, test.csv\")\n",
    "df"
   ]
  },
  {
   "cell_type": "code",
   "execution_count": 8,
   "metadata": {},
   "outputs": [],
   "source": [
    "title = df[\"기사제목\"]"
   ]
  },
  {
   "cell_type": "code",
   "execution_count": 23,
   "metadata": {},
   "outputs": [],
   "source": [
    "import re\n",
    "def clean_text(text):\n",
    "    cleaned_text = re.sub('[a-zA-Z]', '', text)\n",
    "    cleaned_text = re.sub('[\\{\\}\\[\\]\\/;:\"\"|\\·)\\n\\t\\r\\r\\n\\r\\n\\r\\n\\r\\n\\r\\n*~`^\\-_+<>@…©\\#$%&\\\\\\=\\(\\'\\\"]',\n",
    "                          '', cleaned_text)\n",
    "    final_cleaned_text = ' '.join(cleaned_text.split())\n",
    "    return final_cleaned_text\n",
    "\n",
    "def find_hangeul(text):\n",
    "    return re.findall(r'[ㄱ-ㅎ-가-힣]',text)"
   ]
  },
  {
   "cell_type": "code",
   "execution_count": 25,
   "metadata": {},
   "outputs": [
    {
     "data": {
      "text/plain": [
       "'금태섭 \"文 정권 땐 특수부 키우더니 이젠 검수완박…이러니 내로남불\"'"
      ]
     },
     "execution_count": 25,
     "metadata": {},
     "output_type": "execute_result"
    }
   ],
   "source": [
    "title[3]"
   ]
  },
  {
   "cell_type": "code",
   "execution_count": 22,
   "metadata": {},
   "outputs": [],
   "source": [
    "data = [\"금태섭\", \"文\", \"정권\", \"땐\", \"특수부\", \"키우더니\", \"이젠\",\"검수완박\",\"이러니\",\"내로남불\"]"
   ]
  },
  {
   "cell_type": "code",
   "execution_count": 27,
   "metadata": {},
   "outputs": [],
   "source": [
    "from konlpy.tag import Kkma\n",
    "\n",
    "text = \"금태섭 정권 땐 특수부 키우더니 이젠 검수완박 이러니 내로남불\"\n",
    "kkma = Kkma()\n",
    "pt = kkma.pos(text)"
   ]
  },
  {
   "cell_type": "code",
   "execution_count": 28,
   "metadata": {},
   "outputs": [
    {
     "data": {
      "text/plain": [
       "[('금', 'NNG'),\n",
       " ('태', 'NNG'),\n",
       " ('설', 'VV'),\n",
       " ('정권', 'UN'),\n",
       " ('때', 'VV'),\n",
       " ('ㄴ', 'ETD'),\n",
       " ('특수', 'NNG'),\n",
       " ('부', 'NNG'),\n",
       " ('키우', 'VV'),\n",
       " ('더니', 'ECD'),\n",
       " ('이젠', 'NNP'),\n",
       " ('검', 'NNG'),\n",
       " ('수완', 'NNG'),\n",
       " ('박', 'NNG'),\n",
       " ('이러', 'VV'),\n",
       " ('니', 'ECD'),\n",
       " ('내', 'NNG'),\n",
       " ('로', 'JKM'),\n",
       " ('남', 'NNG'),\n",
       " ('불', 'XPN')]"
      ]
     },
     "execution_count": 28,
     "metadata": {},
     "output_type": "execute_result"
    }
   ],
   "source": [
    "pt"
   ]
  },
  {
   "cell_type": "code",
   "execution_count": 29,
   "metadata": {},
   "outputs": [],
   "source": [
    "nn = kkma.nouns(text)"
   ]
  },
  {
   "cell_type": "code",
   "execution_count": 30,
   "metadata": {},
   "outputs": [
    {
     "data": {
      "text/plain": [
       "['금',\n",
       " '금태',\n",
       " '태',\n",
       " '정권',\n",
       " '특수',\n",
       " '특수부',\n",
       " '부',\n",
       " '이젠',\n",
       " '검',\n",
       " '검수완박',\n",
       " '수완',\n",
       " '박',\n",
       " '내',\n",
       " '남']"
      ]
     },
     "execution_count": 30,
     "metadata": {},
     "output_type": "execute_result"
    }
   ],
   "source": [
    "nn"
   ]
  },
  {
   "cell_type": "code",
   "execution_count": 33,
   "metadata": {},
   "outputs": [
    {
     "data": {
      "text/html": [
       "<div>\n",
       "<style scoped>\n",
       "    .dataframe tbody tr th:only-of-type {\n",
       "        vertical-align: middle;\n",
       "    }\n",
       "\n",
       "    .dataframe tbody tr th {\n",
       "        vertical-align: top;\n",
       "    }\n",
       "\n",
       "    .dataframe thead th {\n",
       "        text-align: right;\n",
       "    }\n",
       "</style>\n",
       "<table border=\"1\" class=\"dataframe\">\n",
       "  <thead>\n",
       "    <tr style=\"text-align: right;\">\n",
       "      <th></th>\n",
       "      <th>아</th>\n",
       "    </tr>\n",
       "  </thead>\n",
       "  <tbody>\n",
       "    <tr>\n",
       "      <th>0</th>\n",
       "      <td>휴</td>\n",
       "    </tr>\n",
       "    <tr>\n",
       "      <th>1</th>\n",
       "      <td>아이구</td>\n",
       "    </tr>\n",
       "    <tr>\n",
       "      <th>2</th>\n",
       "      <td>아이쿠</td>\n",
       "    </tr>\n",
       "    <tr>\n",
       "      <th>3</th>\n",
       "      <td>아이고</td>\n",
       "    </tr>\n",
       "    <tr>\n",
       "      <th>4</th>\n",
       "      <td>어</td>\n",
       "    </tr>\n",
       "    <tr>\n",
       "      <th>...</th>\n",
       "      <td>...</td>\n",
       "    </tr>\n",
       "    <tr>\n",
       "      <th>669</th>\n",
       "      <td>일곱</td>\n",
       "    </tr>\n",
       "    <tr>\n",
       "      <th>670</th>\n",
       "      <td>여덟</td>\n",
       "    </tr>\n",
       "    <tr>\n",
       "      <th>671</th>\n",
       "      <td>아홉</td>\n",
       "    </tr>\n",
       "    <tr>\n",
       "      <th>672</th>\n",
       "      <td>령</td>\n",
       "    </tr>\n",
       "    <tr>\n",
       "      <th>673</th>\n",
       "      <td>영</td>\n",
       "    </tr>\n",
       "  </tbody>\n",
       "</table>\n",
       "<p>674 rows × 1 columns</p>\n",
       "</div>"
      ],
      "text/plain": [
       "       아\n",
       "0      휴\n",
       "1    아이구\n",
       "2    아이쿠\n",
       "3    아이고\n",
       "4      어\n",
       "..   ...\n",
       "669   일곱\n",
       "670   여덟\n",
       "671   아홉\n",
       "672    령\n",
       "673    영\n",
       "\n",
       "[674 rows x 1 columns]"
      ]
     },
     "execution_count": 33,
     "metadata": {},
     "output_type": "execute_result"
    }
   ],
   "source": [
    "sw = pd.read_csv(\"../data/korean_stop_words.txt\")\n",
    "sw"
   ]
  },
  {
   "cell_type": "code",
   "execution_count": 36,
   "metadata": {},
   "outputs": [],
   "source": [
    "# 어간 추출\n",
    "from konlpy.tag import Okt\n",
    "\n",
    "text = re.sub(\"[^가-힣ㄱ-ㅎㅏ-ㅣ\\\\s]\",\"\",title[1])\n",
    "\n",
    "def stemmer(text):\n",
    "    text = re.sub(\"[^가-힣ㄱ-ㅎㅏ-ㅣ\\\\s]\",\"\",text)\n",
    "    okt = Okt()\n",
    "    text = okt.morphs(text, stem= True)\n",
    "    return text"
   ]
  },
  {
   "cell_type": "code",
   "execution_count": 37,
   "metadata": {},
   "outputs": [
    {
     "name": "stdout",
     "output_type": "stream",
     "text": [
      "[단독]“웨버 대령, 직접 제안한 ‘카투사 전사자 호명행사’ 성사 발표 때 딱 한 번 웃었다”\n",
      "['단독', '웨버', '대령', '직접', '제안', '한', '카투사', '전', '사자', '호명', '행사', '성사', '발표', '때', '딱', '하다', '번', '웃다']\n"
     ]
    }
   ],
   "source": [
    "print(title[10])\n",
    "print(stemmer(title[10]))"
   ]
  },
  {
   "cell_type": "code",
   "execution_count": null,
   "metadata": {},
   "outputs": [],
   "source": [
    "# 불용어 제거\n"
   ]
  }
 ],
 "metadata": {
  "interpreter": {
   "hash": "83d3e1d533d06a5ed13bdd408cfdbe5752516a627e355ce33664633b6ff4534e"
  },
  "kernelspec": {
   "display_name": "Python 3.9.7 ('base')",
   "language": "python",
   "name": "python3"
  },
  "language_info": {
   "codemirror_mode": {
    "name": "ipython",
    "version": 3
   },
   "file_extension": ".py",
   "mimetype": "text/x-python",
   "name": "python",
   "nbconvert_exporter": "python",
   "pygments_lexer": "ipython3",
   "version": "3.9.7"
  },
  "orig_nbformat": 4
 },
 "nbformat": 4,
 "nbformat_minor": 2
}
