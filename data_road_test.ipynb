{
 "cells": [
  {
   "cell_type": "code",
   "execution_count": 2,
   "metadata": {},
   "outputs": [],
   "source": [
    "from NewsAnalyzer.PreProcesser import preprocesser\n",
    "\n",
    "pp = preprocesser()\n",
    "df = pp.road_data(\"data/2022-04-13 news data.csv\")"
   ]
  },
  {
   "cell_type": "code",
   "execution_count": 2,
   "metadata": {},
   "outputs": [
    {
     "data": {
      "text/html": [
       "<div>\n",
       "<style scoped>\n",
       "    .dataframe tbody tr th:only-of-type {\n",
       "        vertical-align: middle;\n",
       "    }\n",
       "\n",
       "    .dataframe tbody tr th {\n",
       "        vertical-align: top;\n",
       "    }\n",
       "\n",
       "    .dataframe thead th {\n",
       "        text-align: right;\n",
       "    }\n",
       "</style>\n",
       "<table border=\"1\" class=\"dataframe\">\n",
       "  <thead>\n",
       "    <tr style=\"text-align: right;\">\n",
       "      <th></th>\n",
       "      <th>카테고리</th>\n",
       "      <th>언론사</th>\n",
       "      <th>기사제목</th>\n",
       "      <th>날짜</th>\n",
       "      <th>본문</th>\n",
       "    </tr>\n",
       "  </thead>\n",
       "  <tbody>\n",
       "    <tr>\n",
       "      <th>0</th>\n",
       "      <td>정치</td>\n",
       "      <td>뉴스1</td>\n",
       "      <td>정의당 \"검수완박 강행처리 반대…한동훈 지명 철회 요구\"(종합)</td>\n",
       "      <td>2022.04.13.</td>\n",
       "      <td>\\n\\n\\n\\n\\n연석회의 열고 당론 결정…\"양당에 국회 검찰개혁 논의기구 설치 제...</td>\n",
       "    </tr>\n",
       "    <tr>\n",
       "      <th>1</th>\n",
       "      <td>정치</td>\n",
       "      <td>강원도민일보</td>\n",
       "      <td>[단독] 국힘 강원도지사 후보 황상무 전략공천설에 김진태 반발</td>\n",
       "      <td>2022.04.13.</td>\n",
       "      <td>\\n\\n\\n\\n\\n▲ 국민의힘 정진석 공천관리위원장이 지난달 서울 여의도 국회에서 ...</td>\n",
       "    </tr>\n",
       "    <tr>\n",
       "      <th>2</th>\n",
       "      <td>정치</td>\n",
       "      <td>세계일보</td>\n",
       "      <td>장제원 “한동훈, 檢 남고 싶었을 것… 尹이 칼 거두고 펜 쥐어준 것”</td>\n",
       "      <td>2022.04.13.</td>\n",
       "      <td>\\n\\n\\n\\n\\n    장제원 대통령 당선인 비서실장. 연합뉴스     장제원 대...</td>\n",
       "    </tr>\n",
       "    <tr>\n",
       "      <th>3</th>\n",
       "      <td>정치</td>\n",
       "      <td>뉴스1</td>\n",
       "      <td>'검수완박' 저지 한동훈 카드에 민주당 '격앙'…靑 향한 檢(종합)</td>\n",
       "      <td>2022.04.13.</td>\n",
       "      <td>\\n\\n\\n\\n\\n尹, 법무부 장관에 한동훈 지명…인수위 \"검수완박, 헌법 파괴 행...</td>\n",
       "    </tr>\n",
       "    <tr>\n",
       "      <th>4</th>\n",
       "      <td>정치</td>\n",
       "      <td>매일신문</td>\n",
       "      <td>[구미시장 여론조사] 김장호·이양호·장세용 오차범위 내 초접전</td>\n",
       "      <td>2022.04.13.</td>\n",
       "      <td>\\n\\n\\n\\n\\n김장호 18.8%, 이양호 18.2%, 장세용 13.2%김석호 8...</td>\n",
       "    </tr>\n",
       "    <tr>\n",
       "      <th>...</th>\n",
       "      <td>...</td>\n",
       "      <td>...</td>\n",
       "      <td>...</td>\n",
       "      <td>...</td>\n",
       "      <td>...</td>\n",
       "    </tr>\n",
       "    <tr>\n",
       "      <th>4836</th>\n",
       "      <td>세계</td>\n",
       "      <td>조선비즈</td>\n",
       "      <td>뉴욕 증시, 높은 인플레에도 상승 출발… “물가 정점 찍었다”</td>\n",
       "      <td>2022.04.13.</td>\n",
       "      <td>\\n\\n\\n\\n\\n\\t\\n\\t        미국의 소비자물가지수가 41년만에 최대폭...</td>\n",
       "    </tr>\n",
       "    <tr>\n",
       "      <th>4837</th>\n",
       "      <td>세계</td>\n",
       "      <td>한국일보</td>\n",
       "      <td>푸틴 \"우크라 '군사 작전' 목표 반드시 완수할 것\"</td>\n",
       "      <td>2022.04.13.</td>\n",
       "      <td>\\n\\n\\n\\n\\n\"우리 목표는 확실하고 고귀해…서방 충돌 불가피\"지난 12일 블라...</td>\n",
       "    </tr>\n",
       "    <tr>\n",
       "      <th>4838</th>\n",
       "      <td>세계</td>\n",
       "      <td>중앙일보</td>\n",
       "      <td>미국, 상하이 총영사관 직원 철수령…중국 “방역에 대한 모독”</td>\n",
       "      <td>2022.04.13.</td>\n",
       "      <td>\\n\\n\\n\\n\\n  11일 중국 상하이(上海)에서 방호복 차림의 택배기사가 주택단...</td>\n",
       "    </tr>\n",
       "    <tr>\n",
       "      <th>4839</th>\n",
       "      <td>세계</td>\n",
       "      <td>중앙일보</td>\n",
       "      <td>바이든, 내달 24일 일본서 쿼드회의 후 한국 방문 유력</td>\n",
       "      <td>2022.04.13.</td>\n",
       "      <td>\\n\\n\\n\\n\\n\\t\\n\\t  조 바이든 미국 대통령이 5월 24일께 일본을 방문...</td>\n",
       "    </tr>\n",
       "    <tr>\n",
       "      <th>4840</th>\n",
       "      <td>세계</td>\n",
       "      <td>KBS</td>\n",
       "      <td>바이든 방일, 한-미 정상회담 가능성 커져…미, 인도에 대러 제재 동참 압박</td>\n",
       "      <td>2022.04.13.</td>\n",
       "      <td>\\n\\n\\n\\n\\n [앵커] 조 바이든 미국 대통령이 다음 달 일본 방문 계획을 밝...</td>\n",
       "    </tr>\n",
       "  </tbody>\n",
       "</table>\n",
       "<p>4809 rows × 5 columns</p>\n",
       "</div>"
      ],
      "text/plain": [
       "     카테고리     언론사                                        기사제목           날짜  \\\n",
       "0      정치     뉴스1         정의당 \"검수완박 강행처리 반대…한동훈 지명 철회 요구\"(종합)  2022.04.13.   \n",
       "1      정치  강원도민일보          [단독] 국힘 강원도지사 후보 황상무 전략공천설에 김진태 반발  2022.04.13.   \n",
       "2      정치    세계일보     장제원 “한동훈, 檢 남고 싶었을 것… 尹이 칼 거두고 펜 쥐어준 것”  2022.04.13.   \n",
       "3      정치     뉴스1       '검수완박' 저지 한동훈 카드에 민주당 '격앙'…靑 향한 檢(종합)  2022.04.13.   \n",
       "4      정치    매일신문          [구미시장 여론조사] 김장호·이양호·장세용 오차범위 내 초접전  2022.04.13.   \n",
       "...   ...     ...                                         ...          ...   \n",
       "4836   세계    조선비즈          뉴욕 증시, 높은 인플레에도 상승 출발… “물가 정점 찍었다”  2022.04.13.   \n",
       "4837   세계    한국일보               푸틴 \"우크라 '군사 작전' 목표 반드시 완수할 것\"  2022.04.13.   \n",
       "4838   세계    중앙일보          미국, 상하이 총영사관 직원 철수령…중국 “방역에 대한 모독”  2022.04.13.   \n",
       "4839   세계    중앙일보             바이든, 내달 24일 일본서 쿼드회의 후 한국 방문 유력  2022.04.13.   \n",
       "4840   세계     KBS  바이든 방일, 한-미 정상회담 가능성 커져…미, 인도에 대러 제재 동참 압박  2022.04.13.   \n",
       "\n",
       "                                                     본문  \n",
       "0     \\n\\n\\n\\n\\n연석회의 열고 당론 결정…\"양당에 국회 검찰개혁 논의기구 설치 제...  \n",
       "1     \\n\\n\\n\\n\\n▲ 국민의힘 정진석 공천관리위원장이 지난달 서울 여의도 국회에서 ...  \n",
       "2     \\n\\n\\n\\n\\n    장제원 대통령 당선인 비서실장. 연합뉴스     장제원 대...  \n",
       "3     \\n\\n\\n\\n\\n尹, 법무부 장관에 한동훈 지명…인수위 \"검수완박, 헌법 파괴 행...  \n",
       "4     \\n\\n\\n\\n\\n김장호 18.8%, 이양호 18.2%, 장세용 13.2%김석호 8...  \n",
       "...                                                 ...  \n",
       "4836  \\n\\n\\n\\n\\n\\t\\n\\t        미국의 소비자물가지수가 41년만에 최대폭...  \n",
       "4837  \\n\\n\\n\\n\\n\"우리 목표는 확실하고 고귀해…서방 충돌 불가피\"지난 12일 블라...  \n",
       "4838  \\n\\n\\n\\n\\n  11일 중국 상하이(上海)에서 방호복 차림의 택배기사가 주택단...  \n",
       "4839  \\n\\n\\n\\n\\n\\t\\n\\t  조 바이든 미국 대통령이 5월 24일께 일본을 방문...  \n",
       "4840  \\n\\n\\n\\n\\n [앵커] 조 바이든 미국 대통령이 다음 달 일본 방문 계획을 밝...  \n",
       "\n",
       "[4809 rows x 5 columns]"
      ]
     },
     "execution_count": 2,
     "metadata": {},
     "output_type": "execute_result"
    }
   ],
   "source": [
    "df"
   ]
  },
  {
   "cell_type": "code",
   "execution_count": 4,
   "metadata": {},
   "outputs": [
    {
     "data": {
      "text/plain": [
       "array(['정치', '경제', '사회', '생활', 'IT', '세계'], dtype=object)"
      ]
     },
     "execution_count": 4,
     "metadata": {},
     "output_type": "execute_result"
    }
   ],
   "source": [
    "df[\"카테고리\"].unique()"
   ]
  },
  {
   "cell_type": "code",
   "execution_count": null,
   "metadata": {},
   "outputs": [],
   "source": []
  }
 ],
 "metadata": {
  "interpreter": {
   "hash": "83d3e1d533d06a5ed13bdd408cfdbe5752516a627e355ce33664633b6ff4534e"
  },
  "kernelspec": {
   "display_name": "Python 3.9.7 ('base')",
   "language": "python",
   "name": "python3"
  },
  "language_info": {
   "codemirror_mode": {
    "name": "ipython",
    "version": 3
   },
   "file_extension": ".py",
   "mimetype": "text/x-python",
   "name": "python",
   "nbconvert_exporter": "python",
   "pygments_lexer": "ipython3",
   "version": "3.9.7"
  },
  "orig_nbformat": 4
 },
 "nbformat": 4,
 "nbformat_minor": 2
}
